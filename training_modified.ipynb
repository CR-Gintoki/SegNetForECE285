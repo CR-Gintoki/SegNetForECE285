{
 "cells": [
  {
   "cell_type": "code",
   "execution_count": 1,
   "metadata": {},
   "outputs": [],
   "source": [
    "import torch\n",
    "import torch.nn as nn\n",
    "import torch.nn.init as nn_init\n",
    "import torch.nn.functional as F\n",
    "import numpy as np\n",
    "import matplotlib.pyplot as plt\n",
    "from DataLoader import data_loader\n",
    "import torchvision.transforms as transforms\n",
    "from SegNet import SegNet"
   ]
  },
  {
   "cell_type": "code",
   "execution_count": 2,
   "metadata": {},
   "outputs": [
    {
     "data": {
      "text/plain": [
       "'/datasets/home/14/214/c6du/ECE 285/Project/0519'"
      ]
     },
     "execution_count": 2,
     "metadata": {},
     "output_type": "execute_result"
    }
   ],
   "source": [
    "pwd"
   ]
  },
  {
   "cell_type": "code",
   "execution_count": null,
   "metadata": {},
   "outputs": [],
   "source": []
  },
  {
   "cell_type": "code",
   "execution_count": 3,
   "metadata": {},
   "outputs": [],
   "source": [
    "def data_loader(index, root, mode, Transform_data, Transform_lbl, ctg_index):\n",
    "    from PIL import Image\n",
    "    import PIL\n",
    "    def Categories(input_image, input_list):\n",
    "        input_list.sort()\n",
    "        C = len(input_list)\n",
    "        input_image = np.array(input_image)\n",
    "        target = np.zeros((input_image.shape[0], input_image.shape[1]))\n",
    "\n",
    "        for i in range(C):\n",
    "            target[np.where(input_image == input_list[i])] = i\n",
    "        target = np.array(target)\n",
    "        \n",
    "        return Image.fromarray(np.uint8(target))\n",
    "\n",
    "\n",
    "    image_path0 = root + mode + '/' + mode + '_'\n",
    "    \n",
    "    for idx in index:\n",
    "        \n",
    "        # Read data\n",
    "        data_path = image_path0 + '{0:05d}'.format(idx) + '_ori.png'\n",
    "        lbl_path  = image_path0 + '{0:05d}'.format(idx) + '_lbl.png'\n",
    "        data_idx = Image.open(data_path)\n",
    "        lbl_idx  = Image.open(lbl_path)\n",
    "\n",
    "        # Calculate categories of label image\n",
    "        lbl_idx = Categories(lbl_idx, ctg_index)\n",
    "\n",
    "        # Apply Resize, ToTensor, Normalization\n",
    "        data_out = Transform_data(data_idx)\n",
    "        lbl_out = Transform_lbl(lbl_idx)\n",
    "        lbl_out = np.array(lbl_out)\n",
    "        lbl_out = torch.from_numpy(lbl_out)\n",
    "        \n",
    "        # Add dimension\n",
    "        data_out.unsqueeze_(0)\n",
    "        lbl_out.unsqueeze_(0)\n",
    "        yield data_out, lbl_out.long()\n",
    "        \n",
    "def save_checkpoint(state, filename='checkpoint.pth.tar'):\n",
    "    torch.save(state, filename)\n"
   ]
  },
  {
   "cell_type": "code",
   "execution_count": 4,
   "metadata": {},
   "outputs": [],
   "source": [
    "def output_show(train_ori, train_lbl,output):\n",
    "    import matplotlib.pyplot as plt\n",
    "    img = train_ori.cpu().squeeze(0).permute(1,2,0).numpy()\n",
    "    \n",
    "    plt.figure(figsize= (5.4,4))\n",
    "    plt.imshow(img)\n",
    "    plt.title('train_ori')\n",
    "    plt.show()\n",
    "    \n",
    "    img = train_lbl.cpu().squeeze(0).numpy()\n",
    "    \n",
    "    plt.figure(figsize= (5.4,4))\n",
    "    plt.imshow(img)\n",
    "    plt.title('train_lbl')\n",
    "    plt.show()\n",
    "    \n",
    "    img = torch.argmax(output.cpu(), dim = 1)\n",
    "    img = img.squeeze(0).numpy()\n",
    "\n",
    "    plt.figure(figsize= (5.4,4))\n",
    "    plt.title('output')\n",
    "    plt.imshow(img)\n",
    "    plt.show()"
   ]
  },
  {
   "cell_type": "markdown",
   "metadata": {},
   "source": [
    "# Training"
   ]
  },
  {
   "cell_type": "code",
   "execution_count": 7,
   "metadata": {},
   "outputs": [
    {
     "name": "stdout",
     "output_type": "stream",
     "text": [
      "device: cuda:0\n",
      "optimizer: Adam_lrinit=0001_lrchange=True\n"
     ]
    }
   ],
   "source": [
    "# Hyprt Parameter\n",
    "num_image = 2975  # Size of dataset\n",
    "index = np.arange(num_image).tolist()\n",
    "np.random.shuffle(index) # Shuffle data\n",
    "root = '/datasets/home/14/214/c6du/data/Cityscape_modified/' # Root path\n",
    "mode = 'train' # train, test, valid\n",
    "output_size = (450, 900)  # (height, width)\n",
    "\n",
    "Transform_data = transforms.Compose([transforms.Resize(output_size),\n",
    "                                     transforms.ToTensor(),\n",
    "                                     transforms.Normalize((0.5, 0.5, 0.5), (0.5, 0.5, 0.5))\n",
    "                                    ])\n",
    "Transform_lbl  = transforms.Compose([transforms.Resize(output_size),\n",
    "                                    ])\n",
    "### First epoch / read file checkpoint_with_epoch_00000_Adam.pth.tar\n",
    "load_file = True\n",
    "load_file_optim = 'Adam'\n",
    "load_file_epoch = 0\n",
    "load_file_name = 'checkpoint_with_epoch_{0:05d}'.format(load_file_epoch) +\\\n",
    "        '_' + load_file_optim + '.pth.tar'\n",
    "\n",
    "\n",
    "\n",
    "\n",
    "device = torch.device(\"cuda:0\" if torch.cuda.is_available() else \"cpu\")\n",
    "print('device:',device)\n",
    "\n",
    "class_num = [0, 7, 11, 26, 24]\n",
    "net = SegNet(class_num = len(class_num), img_size = output_size)\n",
    "net = net.to(device)\n",
    "lrinit = 0.0001\n",
    "\n",
    "optim_model = 'Adam' # 'SGD', 'Adagrad', 'RMSprop' \n",
    "lr_change = True\n",
    "\n",
    "if optim_model == 'Adam':\n",
    "    optimizer = torch.optim.Adam(net.parameters(), lr = lrinit)\n",
    "    model_type = optim_model + '_lrinit=' + str(lrinit).split('.')[-1] + \\\n",
    "    '_lrchange=' + str(lr_change)\n",
    "    print('optimizer:', model_type)\n",
    "    \n",
    "else:\n",
    "    raise Exception('Optimizer not supported!')\n",
    "    \n",
    "criteria = nn.CrossEntropyLoss()\n"
   ]
  },
  {
   "cell_type": "code",
   "execution_count": 8,
   "metadata": {
    "scrolled": false
   },
   "outputs": [
    {
     "data": {
      "application/vnd.jupyter.widget-view+json": {
       "model_id": "19a3da1ac81d47e98598c9cb63343689",
       "version_major": 2,
       "version_minor": 0
      },
      "text/html": [
       "<p>Failed to display Jupyter Widget of type <code>HBox</code>.</p>\n",
       "<p>\n",
       "  If you're reading this message in the Jupyter Notebook or JupyterLab Notebook, it may mean\n",
       "  that the widgets JavaScript is still loading. If this message persists, it\n",
       "  likely means that the widgets JavaScript library is either not installed or\n",
       "  not enabled. See the <a href=\"https://ipywidgets.readthedocs.io/en/stable/user_install.html\">Jupyter\n",
       "  Widgets Documentation</a> for setup instructions.\n",
       "</p>\n",
       "<p>\n",
       "  If you're reading this message in another frontend (for example, a static\n",
       "  rendering on GitHub or <a href=\"https://nbviewer.jupyter.org/\">NBViewer</a>),\n",
       "  it may mean that your frontend doesn't currently support widgets.\n",
       "</p>\n"
      ],
      "text/plain": [
       "HBox(children=(IntProgress(value=0, max=10), HTML(value='')))"
      ]
     },
     "metadata": {},
     "output_type": "display_data"
    },
    {
     "data": {
      "application/vnd.jupyter.widget-view+json": {
       "model_id": "b53b7bdefdde47fdb351fddb793eb9d7",
       "version_major": 2,
       "version_minor": 0
      },
      "text/html": [
       "<p>Failed to display Jupyter Widget of type <code>HBox</code>.</p>\n",
       "<p>\n",
       "  If you're reading this message in the Jupyter Notebook or JupyterLab Notebook, it may mean\n",
       "  that the widgets JavaScript is still loading. If this message persists, it\n",
       "  likely means that the widgets JavaScript library is either not installed or\n",
       "  not enabled. See the <a href=\"https://ipywidgets.readthedocs.io/en/stable/user_install.html\">Jupyter\n",
       "  Widgets Documentation</a> for setup instructions.\n",
       "</p>\n",
       "<p>\n",
       "  If you're reading this message in another frontend (for example, a static\n",
       "  rendering on GitHub or <a href=\"https://nbviewer.jupyter.org/\">NBViewer</a>),\n",
       "  it may mean that your frontend doesn't currently support widgets.\n",
       "</p>\n"
      ],
      "text/plain": [
       "HBox(children=(IntProgress(value=1, bar_style='info', max=1), HTML(value='')))"
      ]
     },
     "metadata": {},
     "output_type": "display_data"
    },
    {
     "name": "stderr",
     "output_type": "stream",
     "text": [
      "Clipping input data to the valid range for imshow with RGB data ([0..1] for floats or [0..255] for integers).\n"
     ]
    },
    {
     "data": {
      "image/png": "[encoded data removed]",
      "text/plain": [
       "<Figure size 388.8x288 with 1 Axes>"
      ]
     },
     "metadata": {},
     "output_type": "display_data"
    },
    {
     "data": {
      "image/png": "[encoded data removed]",
      "text/plain": [
       "<Figure size 388.8x288 with 1 Axes>"
      ]
     },
     "metadata": {},
     "output_type": "display_data"
    },
    {
     "data": {
      "image/png": "[encoded data removed]",
      "text/plain": [
       "<Figure size 388.8x288 with 1 Axes>"
      ]
     },
     "metadata": {},
     "output_type": "display_data"
    },
    {
     "name": "stdout",
     "output_type": "stream",
     "text": [
      "\n"
     ]
    },
    {
     "ename": "KeyboardInterrupt",
     "evalue": "",
     "output_type": "error",
     "traceback": [
      "\u001b[0;31m\u001b[0m",
      "\u001b[0;31mKeyboardInterrupt\u001b[0mTraceback (most recent call last)",
      "\u001b[0;32m<ipython-input-8-b07617daf246>\u001b[0m in \u001b[0;36m<module>\u001b[0;34m()\u001b[0m\n\u001b[1;32m     53\u001b[0m         \u001b[0mtrain_loader\u001b[0m \u001b[0;34m=\u001b[0m \u001b[0mdata_loader\u001b[0m\u001b[0;34m(\u001b[0m\u001b[0mindex\u001b[0m\u001b[0;34m,\u001b[0m \u001b[0mroot\u001b[0m\u001b[0;34m,\u001b[0m \u001b[0mmode\u001b[0m\u001b[0;34m,\u001b[0m \u001b[0mTransform_data\u001b[0m\u001b[0;34m,\u001b[0m \u001b[0mTransform_lbl\u001b[0m\u001b[0;34m,\u001b[0m \u001b[0mclass_num\u001b[0m\u001b[0;34m)\u001b[0m\u001b[0;34m\u001b[0m\u001b[0m\n\u001b[1;32m     54\u001b[0m \u001b[0;34m\u001b[0m\u001b[0m\n\u001b[0;32m---> 55\u001b[0;31m         \u001b[0;32mfor\u001b[0m \u001b[0mcounter\u001b[0m\u001b[0;34m,\u001b[0m \u001b[0melements\u001b[0m \u001b[0;32min\u001b[0m \u001b[0mtqdm\u001b[0m\u001b[0;34m(\u001b[0m\u001b[0menumerate\u001b[0m\u001b[0;34m(\u001b[0m\u001b[0mtrain_loader\u001b[0m\u001b[0;34m)\u001b[0m\u001b[0;34m)\u001b[0m\u001b[0;34m:\u001b[0m\u001b[0;34m\u001b[0m\u001b[0m\n\u001b[0m\u001b[1;32m     56\u001b[0m             \u001b[0mtrain_img\u001b[0m \u001b[0;34m=\u001b[0m \u001b[0melements\u001b[0m\u001b[0;34m[\u001b[0m\u001b[0;36m0\u001b[0m\u001b[0;34m]\u001b[0m\u001b[0;34m.\u001b[0m\u001b[0mto\u001b[0m\u001b[0;34m(\u001b[0m\u001b[0mdevice\u001b[0m\u001b[0;34m)\u001b[0m\u001b[0;34m\u001b[0m\u001b[0m\n\u001b[1;32m     57\u001b[0m             \u001b[0mtrain_lbl\u001b[0m \u001b[0;34m=\u001b[0m \u001b[0melements\u001b[0m\u001b[0;34m[\u001b[0m\u001b[0;36m1\u001b[0m\u001b[0;34m]\u001b[0m\u001b[0;34m.\u001b[0m\u001b[0mto\u001b[0m\u001b[0;34m(\u001b[0m\u001b[0mdevice\u001b[0m\u001b[0;34m)\u001b[0m\u001b[0;34m\u001b[0m\u001b[0m\n",
      "\u001b[0;32m/opt/conda/lib/python3.6/site-packages/tqdm/_tqdm_notebook.py\u001b[0m in \u001b[0;36m__iter__\u001b[0;34m(self, *args, **kwargs)\u001b[0m\n\u001b[1;32m    199\u001b[0m     \u001b[0;32mdef\u001b[0m \u001b[0m__iter__\u001b[0m\u001b[0;34m(\u001b[0m\u001b[0mself\u001b[0m\u001b[0;34m,\u001b[0m \u001b[0;34m*\u001b[0m\u001b[0margs\u001b[0m\u001b[0;34m,\u001b[0m \u001b[0;34m**\u001b[0m\u001b[0mkwargs\u001b[0m\u001b[0;34m)\u001b[0m\u001b[0;34m:\u001b[0m\u001b[0;34m\u001b[0m\u001b[0m\n\u001b[1;32m    200\u001b[0m         \u001b[0;32mtry\u001b[0m\u001b[0;34m:\u001b[0m\u001b[0;34m\u001b[0m\u001b[0m\n\u001b[0;32m--> 201\u001b[0;31m             \u001b[0;32mfor\u001b[0m \u001b[0mobj\u001b[0m \u001b[0;32min\u001b[0m \u001b[0msuper\u001b[0m\u001b[0;34m(\u001b[0m\u001b[0mtqdm_notebook\u001b[0m\u001b[0;34m,\u001b[0m \u001b[0mself\u001b[0m\u001b[0;34m)\u001b[0m\u001b[0;34m.\u001b[0m\u001b[0m__iter__\u001b[0m\u001b[0;34m(\u001b[0m\u001b[0;34m*\u001b[0m\u001b[0margs\u001b[0m\u001b[0;34m,\u001b[0m \u001b[0;34m**\u001b[0m\u001b[0mkwargs\u001b[0m\u001b[0;34m)\u001b[0m\u001b[0;34m:\u001b[0m\u001b[0;34m\u001b[0m\u001b[0m\n\u001b[0m\u001b[1;32m    202\u001b[0m                 \u001b[0;31m# return super(tqdm...) will not catch exception\u001b[0m\u001b[0;34m\u001b[0m\u001b[0;34m\u001b[0m\u001b[0m\n\u001b[1;32m    203\u001b[0m                 \u001b[0;32myield\u001b[0m \u001b[0mobj\u001b[0m\u001b[0;34m\u001b[0m\u001b[0m\n",
      "\u001b[0;32m/opt/conda/lib/python3.6/site-packages/tqdm/_tqdm.py\u001b[0m in \u001b[0;36m__iter__\u001b[0;34m(self)\u001b[0m\n\u001b[1;32m    939\u001b[0m \"\"\", fp_write=getattr(self.fp, 'write', sys.stderr.write))\n\u001b[1;32m    940\u001b[0m \u001b[0;34m\u001b[0m\u001b[0m\n\u001b[0;32m--> 941\u001b[0;31m             \u001b[0;32mfor\u001b[0m \u001b[0mobj\u001b[0m \u001b[0;32min\u001b[0m \u001b[0miterable\u001b[0m\u001b[0;34m:\u001b[0m\u001b[0;34m\u001b[0m\u001b[0m\n\u001b[0m\u001b[1;32m    942\u001b[0m                 \u001b[0;32myield\u001b[0m \u001b[0mobj\u001b[0m\u001b[0;34m\u001b[0m\u001b[0m\n\u001b[1;32m    943\u001b[0m                 \u001b[0;31m# Update and possibly print the progressbar.\u001b[0m\u001b[0;34m\u001b[0m\u001b[0;34m\u001b[0m\u001b[0m\n",
      "\u001b[0;32m<ipython-input-3-e4dc18dd740a>\u001b[0m in \u001b[0;36mdata_loader\u001b[0;34m(index, root, mode, Transform_data, Transform_lbl, ctg_index)\u001b[0m\n\u001b[1;32m     26\u001b[0m \u001b[0;34m\u001b[0m\u001b[0m\n\u001b[1;32m     27\u001b[0m         \u001b[0;31m# Calculate categories of label image\u001b[0m\u001b[0;34m\u001b[0m\u001b[0;34m\u001b[0m\u001b[0m\n\u001b[0;32m---> 28\u001b[0;31m         \u001b[0mlbl_idx\u001b[0m \u001b[0;34m=\u001b[0m \u001b[0mCategories\u001b[0m\u001b[0;34m(\u001b[0m\u001b[0mlbl_idx\u001b[0m\u001b[0;34m,\u001b[0m \u001b[0mctg_index\u001b[0m\u001b[0;34m)\u001b[0m\u001b[0;34m\u001b[0m\u001b[0m\n\u001b[0m\u001b[1;32m     29\u001b[0m \u001b[0;34m\u001b[0m\u001b[0m\n\u001b[1;32m     30\u001b[0m         \u001b[0;31m# Apply Resize, ToTensor, Normalization\u001b[0m\u001b[0;34m\u001b[0m\u001b[0;34m\u001b[0m\u001b[0m\n",
      "\u001b[0;32m<ipython-input-3-e4dc18dd740a>\u001b[0m in \u001b[0;36mCategories\u001b[0;34m(input_image, input_list)\u001b[0m\n\u001b[1;32m      9\u001b[0m \u001b[0;34m\u001b[0m\u001b[0m\n\u001b[1;32m     10\u001b[0m         \u001b[0;32mfor\u001b[0m \u001b[0mi\u001b[0m \u001b[0;32min\u001b[0m \u001b[0mrange\u001b[0m\u001b[0;34m(\u001b[0m\u001b[0mC\u001b[0m\u001b[0;34m)\u001b[0m\u001b[0;34m:\u001b[0m\u001b[0;34m\u001b[0m\u001b[0m\n\u001b[0;32m---> 11\u001b[0;31m             \u001b[0mtarget\u001b[0m\u001b[0;34m[\u001b[0m\u001b[0mnp\u001b[0m\u001b[0;34m.\u001b[0m\u001b[0mwhere\u001b[0m\u001b[0;34m(\u001b[0m\u001b[0minput_image\u001b[0m \u001b[0;34m==\u001b[0m \u001b[0minput_list\u001b[0m\u001b[0;34m[\u001b[0m\u001b[0mi\u001b[0m\u001b[0;34m]\u001b[0m\u001b[0;34m)\u001b[0m\u001b[0;34m]\u001b[0m \u001b[0;34m=\u001b[0m \u001b[0mi\u001b[0m\u001b[0;34m\u001b[0m\u001b[0m\n\u001b[0m\u001b[1;32m     12\u001b[0m         \u001b[0mtarget\u001b[0m \u001b[0;34m=\u001b[0m \u001b[0mnp\u001b[0m\u001b[0;34m.\u001b[0m\u001b[0marray\u001b[0m\u001b[0;34m(\u001b[0m\u001b[0mtarget\u001b[0m\u001b[0;34m)\u001b[0m\u001b[0;34m\u001b[0m\u001b[0m\n\u001b[1;32m     13\u001b[0m \u001b[0;34m\u001b[0m\u001b[0m\n",
      "\u001b[0;31mKeyboardInterrupt\u001b[0m: "
     ]
    }
   ],
   "source": [
    "from tqdm import tqdm_notebook as tqdm\n",
    "import os\n",
    "\n",
    "loss_list = []\n",
    "epoch_m = 10\n",
    "learn_r = lrinit\n",
    "if not load_file:\n",
    "    for epoch in tqdm(range(epoch_m)):\n",
    "\n",
    "        np.random.shuffle(index) # Shuffle data\n",
    "        train_loader = data_loader(index, root, mode, Transform_data, Transform_lbl, class_num)\n",
    "\n",
    "        for counter, elements in tqdm(enumerate(train_loader)):\n",
    "            train_img = elements[0].to(device)\n",
    "            train_lbl = elements[1].to(device)\n",
    "            output = net(train_img)\n",
    "            loss = criteria(output, train_lbl)\n",
    "            loss_list.append(loss.item())\n",
    "            optimizer.zero_grad()\n",
    "            loss.backward()\n",
    "            optimizer.step()\n",
    "            if counter % 100 == 0:\n",
    "                output_show(train_img,train_lbl, output)\n",
    "\n",
    "        if lr_change == True:\n",
    "\n",
    "            if optim_model == 'Adam':\n",
    "                learn_r = lrinit / 2 ** epoch\n",
    "                print('lr = ' + str(learn_r))\n",
    "                optimizer = torch.optim.Adam(net.parameters(), lr = learn_r)\n",
    "\n",
    "        save_file_name = 'checkpoint_with_epoch_{0:05d}'.format(epoch) +\\\n",
    "        '_' + optim_model + '.pth.tar'\n",
    "        print(save_file_name)\n",
    "        save_checkpoint({'epoch': epoch,\n",
    "                         'net_dict': net.state_dict(),\n",
    "                         'learn_r': learn_r,\n",
    "                         'optim_model': optim_model,\n",
    "                         'loss_list': loss_list},\n",
    "                        filename = './' + save_file_name) \n",
    "\n",
    "else:\n",
    "    \n",
    "    checkpoint = torch.load(load_file_name)\n",
    "    epoch_s = checkpoint['epoch'] + 1\n",
    "    net.load_state_dict(checkpoint['net_dict'])\n",
    "    learn_r = checkpoint['learn_r']\n",
    "    optim_model = checkpoint['optim_model']\n",
    "    loss_list = checkpoint['loss_list']\n",
    "    \n",
    "    for epoch in tqdm(range(epoch_s, epoch_s + epoch_m)):\n",
    "\n",
    "        np.random.shuffle(index) # Shuffle data\n",
    "        train_loader = data_loader(index, root, mode, Transform_data, Transform_lbl, class_num)\n",
    "\n",
    "        for counter, elements in tqdm(enumerate(train_loader)):\n",
    "            train_img = elements[0].to(device)\n",
    "            train_lbl = elements[1].to(device)\n",
    "            output = net(train_img)\n",
    "            loss = criteria(output, train_lbl)\n",
    "            loss_list.append(loss.item())\n",
    "            optimizer.zero_grad()\n",
    "            loss.backward()\n",
    "            optimizer.step()\n",
    "            if counter % 100 == 0:\n",
    "                output_show(train_img,train_lbl, output)\n",
    "\n",
    "        if lr_change == True:\n",
    "\n",
    "            if optim_model == 'Adam':\n",
    "                learn_r = lrinit / 2 ** epoch\n",
    "                print('lr = ' + str(learn_r))\n",
    "                optimizer = torch.optim.Adam(net.parameters(), lr = learn_r)\n",
    "                \n",
    "        save_file_name = 'checkpoint_with_epoch_{0:05d}'.format(epoch) +\\\n",
    "        '_' + optim_model + '.pth.tar'\n",
    "        print(save_file_name)\n",
    "        save_checkpoint({'epoch': epoch,\n",
    "                         'net_dict': net.state_dict(),\n",
    "                         'learn_r': learn_r,\n",
    "                         'optim_model': optim_model,\n",
    "                         'loss_list': loss_list},\n",
    "                        filename = './' + save_file_name)\n"
   ]
  },
  {
   "cell_type": "code",
   "execution_count": null,
   "metadata": {
    "scrolled": false
   },
   "outputs": [],
   "source": [
    "plt.plot(loss_list)"
   ]
  },
  {
   "cell_type": "code",
   "execution_count": 27,
   "metadata": {},
   "outputs": [
    {
     "data": {
      "text/plain": [
       "'/datasets/home/14/214/c6du/ECE 285/Project/0519'"
      ]
     },
     "execution_count": 27,
     "metadata": {},
     "output_type": "execute_result"
    }
   ],
   "source": [
    "pwd"
   ]
  },
  {
   "cell_type": "code",
   "execution_count": null,
   "metadata": {},
   "outputs": [],
   "source": []
  },
  {
   "cell_type": "code",
   "execution_count": null,
   "metadata": {},
   "outputs": [],
   "source": []
  }
 ],
 "metadata": {
  "kernelspec": {
   "display_name": "Python 3",
   "language": "python",
   "name": "python3"
  },
  "language_info": {
   "codemirror_mode": {
    "name": "ipython",
    "version": 3
   },
   "file_extension": ".py",
   "mimetype": "text/x-python",
   "name": "python",
   "nbconvert_exporter": "python",
   "pygments_lexer": "ipython3",
   "version": "3.6.4"
  }
 },
 "nbformat": 4,
 "nbformat_minor": 2
}
